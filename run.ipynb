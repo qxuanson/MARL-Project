{
 "cells": [
  {
   "cell_type": "code",
   "execution_count": 8,
   "metadata": {
    "colab": {
     "base_uri": "https://localhost:8080/"
    },
    "executionInfo": {
     "elapsed": 2728,
     "status": "ok",
     "timestamp": 1733467555692,
     "user": {
      "displayName": "Minh Khải",
      "userId": "17162546248965680877"
     },
     "user_tz": -420
    },
    "id": "TA9eVqfTAVr0",
    "outputId": "2a56a10f-159b-4259-b877-d3cf9345a27f"
   },
   "outputs": [
    {
     "name": "stdout",
     "output_type": "stream",
     "text": [
      "Drive already mounted at /content/drive; to attempt to forcibly remount, call drive.mount(\"/content/drive\", force_remount=True).\n"
     ]
    }
   ],
   "source": [
    "from google.colab import drive\n",
    "drive.mount('/content/drive')"
   ]
  },
  {
   "cell_type": "code",
   "execution_count": null,
   "metadata": {
    "colab": {
     "base_uri": "https://localhost:8080/"
    },
    "executionInfo": {
     "elapsed": 2,
     "status": "ok",
     "timestamp": 1733467555692,
     "user": {
      "displayName": "Minh Khải",
      "userId": "17162546248965680877"
     },
     "user_tz": -420
    },
    "id": "KIELXHciBOcN",
    "outputId": "a3ff6ea4-0b11-43ac-c8a7-094d381b0a39"
   },
   "outputs": [
    {
     "name": "stdout",
     "output_type": "stream",
     "text": [
      "/content/drive/MyDrive/RL/RL-final-project-AIT-3007\n"
     ]
    }
   ],
   "source": [
    "%cd /content/drive/MyDrive/RL/MARL-Project"
   ]
  },
  {
   "cell_type": "code",
   "execution_count": 5,
   "metadata": {
    "colab": {
     "base_uri": "https://localhost:8080/"
    },
    "executionInfo": {
     "elapsed": 34209,
     "status": "ok",
     "timestamp": 1733467509041,
     "user": {
      "displayName": "Minh Khải",
      "userId": "17162546248965680877"
     },
     "user_tz": -420
    },
    "id": "KRcP3NXXAtB9",
    "outputId": "73ada08e-161d-43cd-aa26-3d8de7f5d7be"
   },
   "outputs": [
    {
     "name": "stdout",
     "output_type": "stream",
     "text": [
      "Collecting git+https://github.com/Farama-Foundation/MAgent2 (from -r requirements.txt (line 1))\n",
      "  Cloning https://github.com/Farama-Foundation/MAgent2 to /tmp/pip-req-build-inv_i6zs\n",
      "  Running command git clone --filter=blob:none --quiet https://github.com/Farama-Foundation/MAgent2 /tmp/pip-req-build-inv_i6zs\n",
      "  Resolved https://github.com/Farama-Foundation/MAgent2 to commit b2ddd49445368cf85d4d4e1edcddae2e28aa1406\n",
      "  Installing build dependencies ... \u001b[?25l\u001b[?25hdone\n",
      "  Getting requirements to build wheel ... \u001b[?25l\u001b[?25hdone\n",
      "  Preparing metadata (pyproject.toml) ... \u001b[?25l\u001b[?25hdone\n",
      "Requirement already satisfied: opencv-python in /usr/local/lib/python3.10/dist-packages (from -r requirements.txt (line 2)) (4.10.0.84)\n",
      "Requirement already satisfied: torch in /usr/local/lib/python3.10/dist-packages (from -r requirements.txt (line 3)) (2.5.1+cu121)\n",
      "Requirement already satisfied: numpy<2.0,>=1.21.0 in /usr/local/lib/python3.10/dist-packages (from magent2==0.3.3->-r requirements.txt (line 1)) (1.26.4)\n",
      "Requirement already satisfied: pygame>=2.1.0 in /usr/local/lib/python3.10/dist-packages (from magent2==0.3.3->-r requirements.txt (line 1)) (2.6.1)\n",
      "Collecting pettingzoo>=1.23.1 (from magent2==0.3.3->-r requirements.txt (line 1))\n",
      "  Downloading pettingzoo-1.24.3-py3-none-any.whl.metadata (8.5 kB)\n",
      "Requirement already satisfied: filelock in /usr/local/lib/python3.10/dist-packages (from torch->-r requirements.txt (line 3)) (3.16.1)\n",
      "Requirement already satisfied: typing-extensions>=4.8.0 in /usr/local/lib/python3.10/dist-packages (from torch->-r requirements.txt (line 3)) (4.12.2)\n",
      "Requirement already satisfied: networkx in /usr/local/lib/python3.10/dist-packages (from torch->-r requirements.txt (line 3)) (3.4.2)\n",
      "Requirement already satisfied: jinja2 in /usr/local/lib/python3.10/dist-packages (from torch->-r requirements.txt (line 3)) (3.1.4)\n",
      "Requirement already satisfied: fsspec in /usr/local/lib/python3.10/dist-packages (from torch->-r requirements.txt (line 3)) (2024.10.0)\n",
      "Requirement already satisfied: sympy==1.13.1 in /usr/local/lib/python3.10/dist-packages (from torch->-r requirements.txt (line 3)) (1.13.1)\n",
      "Requirement already satisfied: mpmath<1.4,>=1.1.0 in /usr/local/lib/python3.10/dist-packages (from sympy==1.13.1->torch->-r requirements.txt (line 3)) (1.3.0)\n",
      "Collecting gymnasium>=0.28.0 (from pettingzoo>=1.23.1->magent2==0.3.3->-r requirements.txt (line 1))\n",
      "  Downloading gymnasium-1.0.0-py3-none-any.whl.metadata (9.5 kB)\n",
      "Requirement already satisfied: MarkupSafe>=2.0 in /usr/local/lib/python3.10/dist-packages (from jinja2->torch->-r requirements.txt (line 3)) (3.0.2)\n",
      "Requirement already satisfied: cloudpickle>=1.2.0 in /usr/local/lib/python3.10/dist-packages (from gymnasium>=0.28.0->pettingzoo>=1.23.1->magent2==0.3.3->-r requirements.txt (line 1)) (3.1.0)\n",
      "Collecting farama-notifications>=0.0.1 (from gymnasium>=0.28.0->pettingzoo>=1.23.1->magent2==0.3.3->-r requirements.txt (line 1))\n",
      "  Downloading Farama_Notifications-0.0.4-py3-none-any.whl.metadata (558 bytes)\n",
      "Downloading pettingzoo-1.24.3-py3-none-any.whl (847 kB)\n",
      "\u001b[2K   \u001b[90m━━━━━━━━━━━━━━━━━━━━━━━━━━━━━━━━━━━━━━━━\u001b[0m \u001b[32m847.8/847.8 kB\u001b[0m \u001b[31m16.3 MB/s\u001b[0m eta \u001b[36m0:00:00\u001b[0m\n",
      "\u001b[?25hDownloading gymnasium-1.0.0-py3-none-any.whl (958 kB)\n",
      "\u001b[2K   \u001b[90m━━━━━━━━━━━━━━━━━━━━━━━━━━━━━━━━━━━━━━━━\u001b[0m \u001b[32m958.1/958.1 kB\u001b[0m \u001b[31m43.8 MB/s\u001b[0m eta \u001b[36m0:00:00\u001b[0m\n",
      "\u001b[?25hDownloading Farama_Notifications-0.0.4-py3-none-any.whl (2.5 kB)\n",
      "Building wheels for collected packages: magent2\n",
      "  Building wheel for magent2 (pyproject.toml) ... \u001b[?25l\u001b[?25hdone\n",
      "  Created wheel for magent2: filename=magent2-0.3.3-cp310-cp310-linux_x86_64.whl size=1696109 sha256=33ea7e7a33229f5ae4595b710207950900c8a023bd7e3358bdf09ad695f6c7a0\n",
      "  Stored in directory: /tmp/pip-ephem-wheel-cache-uh9d3gdr/wheels/e4/8e/bf/51a30bc4038546e23b81c9fb513fe6a8fd916e5a9c5f4291d5\n",
      "Successfully built magent2\n",
      "Installing collected packages: farama-notifications, gymnasium, pettingzoo, magent2\n",
      "Successfully installed farama-notifications-0.0.4 gymnasium-1.0.0 magent2-0.3.3 pettingzoo-1.24.3\n"
     ]
    }
   ],
   "source": [
    "!pip install -r requirements.txt"
   ]
  },
  {
   "cell_type": "code",
   "execution_count": 14,
   "metadata": {
    "colab": {
     "base_uri": "https://localhost:8080/"
    },
    "executionInfo": {
     "elapsed": 731018,
     "status": "ok",
     "timestamp": 1733469973301,
     "user": {
      "displayName": "Minh Khải",
      "userId": "17162546248965680877"
     },
     "user_tz": -420
    },
    "id": "psr1tgDVA9_N",
    "outputId": "d0b6433d-bfe4-4fb2-867a-f55f1ea75e0d"
   },
   "outputs": [
    {
     "name": "stdout",
     "output_type": "stream",
     "text": [
      "episode 1\n",
      "Mô hình đã được lưu vào weights/model_weights1.pth\n",
      "episode 2\n",
      "Mô hình đã được lưu vào weights/model_weights2.pth\n",
      "episode 3\n",
      "Mô hình đã được lưu vào weights/model_weights3.pth\n",
      "episode 4\n",
      "Mô hình đã được lưu vào weights/model_weights4.pth\n",
      "episode 5\n",
      "Mô hình đã được lưu vào weights/model_weights5.pth\n",
      "episode 6\n",
      "Mô hình đã được lưu vào weights/model_weights6.pth\n",
      "episode 7\n",
      "Mô hình đã được lưu vào weights/model_weights7.pth\n",
      "episode 8\n",
      "Mô hình đã được lưu vào weights/model_weights8.pth\n",
      "episode 9\n",
      "Mô hình đã được lưu vào weights/model_weights9.pth\n",
      "episode 10\n",
      "Mô hình đã được lưu vào weights/model_weights10.pth\n"
     ]
    }
   ],
   "source": [
    "!python dqn.py"
   ]
  },
  {
   "cell_type": "code",
   "execution_count": 15,
   "metadata": {
    "colab": {
     "base_uri": "https://localhost:8080/"
    },
    "executionInfo": {
     "elapsed": 8283,
     "status": "ok",
     "timestamp": 1733470011519,
     "user": {
      "displayName": "Minh Khải",
      "userId": "17162546248965680877"
     },
     "user_tz": -420
    },
    "id": "stl9lOzdeEGb",
    "outputId": "de14df78-25e9-4dc9-ae99-60200903ae60"
   },
   "outputs": [
    {
     "name": "stdout",
     "output_type": "stream",
     "text": [
      "/content/drive/MyDrive/RL/RL-final-project-AIT-3007/test.py:17: FutureWarning: You are using `torch.load` with `weights_only=False` (the current default value), which uses the default pickle module implicitly. It is possible to construct malicious pickle data which will execute arbitrary code during unpickling (See https://github.com/pytorch/pytorch/blob/main/SECURITY.md#untrusted-models for more details). In a future release, the default value for `weights_only` will be flipped to `True`. This limits the functions that could be executed during unpickling. Arbitrary objects will no longer be allowed to be loaded via this mode unless they are explicitly allowlisted by the user via `torch.serialization.add_safe_globals`. We recommend you start setting `weights_only=True` for any use case where you don't have full control of the loaded file. Please open an issue on GitHub for any issues related to this experimental feature.\n",
      "  q_network.load_state_dict(torch.load('weights/model_weights10.pth', map_location=\"cpu\"))\n",
      "blue_7 died\n",
      "blue_15 died\n",
      "blue_6 died\n",
      "blue_3 died\n",
      "blue_11 died\n",
      "blue_8 died\n",
      "blue_2 died\n",
      "blue_23 died\n",
      "blue_4 died\n",
      "blue_10 died\n",
      "blue_17 died\n",
      "blue_25 died\n",
      "blue_0 died\n",
      "blue_1 died\n",
      "blue_13 died\n",
      "blue_20 died\n",
      "blue_32 died\n",
      "blue_43 died\n",
      "blue_5 died\n",
      "blue_16 died\n",
      "blue_24 died\n",
      "blue_26 died\n",
      "blue_22 died\n",
      "blue_40 died\n",
      "blue_21 died\n",
      "blue_31 died\n",
      "blue_18 died\n",
      "blue_44 died\n",
      "blue_39 died\n",
      "blue_49 died\n",
      "blue_50 died\n",
      "blue_14 died\n",
      "blue_48 died\n",
      "blue_53 died\n",
      "blue_55 died\n",
      "blue_58 died\n",
      "blue_34 died\n",
      "blue_12 died\n",
      "blue_42 died\n",
      "blue_28 died\n",
      "blue_33 died\n",
      "blue_35 died\n",
      "blue_38 died\n",
      "blue_46 died\n",
      "blue_66 died\n",
      "blue_54 died\n",
      "blue_27 died\n",
      "blue_71 died\n",
      "blue_37 died\n",
      "blue_9 died\n",
      "blue_19 died\n",
      "blue_59 died\n",
      "blue_68 died\n",
      "blue_36 died\n",
      "blue_41 died\n",
      "blue_61 died\n",
      "blue_30 died\n",
      "blue_78 died\n",
      "blue_51 died\n",
      "blue_56 died\n",
      "blue_29 died\n",
      "blue_45 died\n",
      "blue_73 died\n",
      "blue_74 died\n",
      "blue_60 died\n",
      "blue_64 died\n",
      "blue_63 died\n",
      "blue_79 died\n",
      "blue_52 died\n",
      "blue_69 died\n",
      "blue_65 died\n",
      "blue_67 died\n",
      "blue_72 died\n",
      "blue_75 died\n",
      "blue_80 died\n",
      "blue_57 died\n",
      "blue_70 died\n",
      "blue_47 died\n",
      "blue_62 died\n",
      "blue_76 died\n",
      "blue_77 died\n",
      "red_0 died\n",
      "red_1 died\n",
      "red_10 died\n",
      "red_11 died\n",
      "red_12 died\n",
      "red_13 died\n",
      "red_14 died\n",
      "red_15 died\n",
      "red_16 died\n",
      "red_17 died\n",
      "red_18 died\n",
      "red_19 died\n",
      "red_2 died\n",
      "red_20 died\n",
      "red_21 died\n",
      "red_22 died\n",
      "red_23 died\n",
      "red_24 died\n",
      "red_25 died\n",
      "red_26 died\n",
      "red_27 died\n",
      "red_28 died\n",
      "red_29 died\n",
      "red_3 died\n",
      "red_30 died\n",
      "red_31 died\n",
      "red_32 died\n",
      "red_33 died\n",
      "red_34 died\n",
      "red_35 died\n",
      "red_36 died\n",
      "red_37 died\n",
      "red_38 died\n",
      "red_39 died\n",
      "red_4 died\n",
      "red_40 died\n",
      "red_41 died\n",
      "red_42 died\n",
      "red_43 died\n",
      "red_44 died\n",
      "red_45 died\n",
      "red_46 died\n",
      "red_47 died\n",
      "red_48 died\n",
      "red_49 died\n",
      "red_5 died\n",
      "red_50 died\n",
      "red_51 died\n",
      "red_52 died\n",
      "red_53 died\n",
      "red_54 died\n",
      "red_55 died\n",
      "red_56 died\n",
      "red_57 died\n",
      "red_58 died\n",
      "red_59 died\n",
      "red_6 died\n",
      "red_60 died\n",
      "red_61 died\n",
      "red_62 died\n",
      "red_63 died\n",
      "red_64 died\n",
      "red_65 died\n",
      "red_66 died\n",
      "red_67 died\n",
      "red_68 died\n",
      "red_69 died\n",
      "red_7 died\n",
      "red_70 died\n",
      "red_71 died\n",
      "red_72 died\n",
      "red_73 died\n",
      "red_74 died\n",
      "red_75 died\n",
      "red_76 died\n",
      "red_77 died\n",
      "red_78 died\n",
      "red_79 died\n",
      "red_8 died\n",
      "red_80 died\n",
      "red_9 died\n",
      "Done recording pretrained agents\n"
     ]
    }
   ],
   "source": [
    "!python test.py"
   ]
  }
 ],
 "metadata": {
  "accelerator": "GPU",
  "colab": {
   "authorship_tag": "ABX9TyOqJ5PFZSIg2Xdy59qQA/ID",
   "gpuType": "T4",
   "provenance": [
    {
     "file_id": "1jw7xujj9lW_jAt2j5N0lYm_3ujdQMdsl",
     "timestamp": 1732851660458
    }
   ]
  },
  "kernelspec": {
   "display_name": "Python 3",
   "name": "python3"
  },
  "language_info": {
   "name": "python"
  }
 },
 "nbformat": 4,
 "nbformat_minor": 0
}
